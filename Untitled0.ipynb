{
 "cells": [
  {
   "cell_type": "code",
   "execution_count": 1,
   "metadata": {
    "colab": {
     "base_uri": "https://localhost:8080/"
    },
    "id": "FlS9Sorv0teR",
    "outputId": "6a9f7276-bdea-4dad-9446-687cca97d071"
   },
   "outputs": [
    {
     "name": "stdout",
     "output_type": "stream",
     "text": [
      "Collecting jupyter-c-kernel\n",
      "  Downloading https://files.pythonhosted.org/packages/bf/60/cdd13d162391b66c6b4eaabc3d5c9b8e8f0edba9d3481b20509ae04943c7/jupyter_c_kernel-1.2.2.tar.gz\n",
      "Building wheels for collected packages: jupyter-c-kernel\n",
      "  Building wheel for jupyter-c-kernel (setup.py) ... \u001b[?25l\u001b[?25hdone\n",
      "  Created wheel for jupyter-c-kernel: filename=jupyter_c_kernel-1.2.2-cp36-none-any.whl size=6618 sha256=13b0832e29cdd329544b7d48901ddb1a73c1932e540a7b21a86706191cc23738\n",
      "  Stored in directory: /root/.cache/pip/wheels/28/7a/94/dc4f991e5b8afdc4d89188a658c949f77881e06ee01552a777\n",
      "Successfully built jupyter-c-kernel\n",
      "Installing collected packages: jupyter-c-kernel\n",
      "Successfully installed jupyter-c-kernel-1.2.2\n"
     ]
    }
   ],
   "source": [
    "!pip install jupyter-c-kernel"
   ]
  },
  {
   "cell_type": "code",
   "execution_count": 2,
   "metadata": {
    "colab": {
     "base_uri": "https://localhost:8080/"
    },
    "id": "oBLCaIUk6iln",
    "outputId": "d89c9db1-d81e-45c7-e455-8094e7070369"
   },
   "outputs": [
    {
     "name": "stdout",
     "output_type": "stream",
     "text": [
      "Installing IPython kernel spec\n"
     ]
    }
   ],
   "source": [
    "!install_c_kernel\n"
   ]
  },
  {
   "cell_type": "code",
   "execution_count": null,
   "metadata": {},
   "outputs": [],
   "source": [
    "#include <stdio.h>\n",
    "#include <string.h>\n",
    "\n",
    "int main() {\n",
    "  char str[] = \"This will print\";\n",
    "  char * ptr;\n",
    "  for( ptr = &str[strlen(str)-1]; ptr-str > 2; ptr--);\n",
    "  printf(\"%s\",ptr);\n",
    "}"
   ]
  },
  {
   "cell_type": "code",
   "execution_count": null,
   "metadata": {},
   "outputs": [],
   "source": []
  }
 ],
 "metadata": {
  "colab": {
   "name": "Untitled0.ipynb",
   "provenance": []
  },
  "kernelspec": {
   "display_name": "C",
   "language": "c",
   "name": "c"
  }
 },
 "nbformat": 4,
 "nbformat_minor": 1
}
