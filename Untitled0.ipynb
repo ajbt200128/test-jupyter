{
 "cells": [
  {
   "cell_type": "code",
   "execution_count": null,
   "metadata": {},
   "outputs": [],
   "source": [
    "#include <stdio.h>\n",
    "#include <string.h>\n",
    "\n",
    "int main() {\n",
    "  char str[] = \"This will print\";\n",
    "  char * ptr;\n",
    "  for( ptr = &str[strlen(str)-1]; ptr-str > 2; ptr--);\n",
    "  printf(\"%s\",ptr);\n",
    "}"
   ]
  },
  {
   "cell_type": "code",
   "execution_count": null,
   "metadata": {},
   "outputs": [],
   "source": []
  }
 ],
 "metadata": {
  "colab": {
   "name": "Untitled0.ipynb",
   "provenance": []
  },
  "kernelspec": {
   "display_name": "C",
   "language": "c",
   "name": "c"
  }
 },
 "nbformat": 4,
 "nbformat_minor": 1
}
